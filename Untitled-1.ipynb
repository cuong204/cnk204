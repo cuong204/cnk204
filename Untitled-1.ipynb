{
 "cells": [
  {
   "cell_type": "code",
   "execution_count": 2,
   "metadata": {},
   "outputs": [],
   "source": [
    "n = []\n",
    "m = [1]\n",
    "o = [1, 34, 4, 2]\n",
    "\n",
    "#list of string\n",
    "d = ['hello', 'world']\n",
    "#list of floating numbers\n",
    "e = [1.2, 3.4, 5.6]\n",
    "#list of booleans values\n",
    "f = [True, False, True, True]\n",
    "#list of mixing data types \n",
    "g = [1, 'hello', 3.4, True]\n",
    "#list of lists\n",
    "h = [[1, 2], [3, 4], [5, 6]]\n"
   ]
  },
  {
   "cell_type": "code",
   "execution_count": 3,
   "metadata": {},
   "outputs": [
    {
     "name": "stdout",
     "output_type": "stream",
     "text": [
      "['hello', 'world']\n",
      "2 is in a\n",
      "5 is not in a\n"
     ]
    }
   ],
   "source": [
    "# list operators: +, -, in, not in\n",
    "a = [1, 2]\n",
    "b = [3, 4]\n",
    "c = a + b\n",
    "print(d)\n",
    "if 2 in a:\n",
    "    print('2 is in a')\n",
    "if  5 not in a:\n",
    "    print('5 is not in a')\n",
    "    "
   ]
  },
  {
   "cell_type": "code",
   "execution_count": 4,
   "metadata": {},
   "outputs": [
    {
     "name": "stdout",
     "output_type": "stream",
     "text": [
      "3\n",
      "50\n"
     ]
    }
   ],
   "source": [
    "#access items in a list\n",
    "# \n",
    "a = [3, 8, 99, 12, 43, 50]\n",
    "print(a[0])\n",
    "print(a[5])"
   ]
  },
  {
   "cell_type": "code",
   "execution_count": 5,
   "metadata": {},
   "outputs": [
    {
     "name": "stdout",
     "output_type": "stream",
     "text": [
      "6\n",
      "3\n",
      "99\n",
      "215\n",
      "[3, 8, 12, 43, 50, 99]\n",
      "[99, 50, 43, 12, 8, 3]\n",
      "[3, 8, 99, 12, 43, 50]\n"
     ]
    }
   ],
   "source": [
    "n = len(a)\n",
    "print(n)\n",
    "mi = min(a)\n",
    "print(mi)\n",
    "ma = max(a)\n",
    "print(ma)\n",
    "s = sum(a)\n",
    "print(s)\n",
    "b = sorted(a)\n",
    "print(b)\n",
    "c = sorted(a, reverse=True)\n",
    "print(c)\n",
    "print(a)\n"
   ]
  },
  {
   "cell_type": "code",
   "execution_count": 6,
   "metadata": {},
   "outputs": [
    {
     "name": "stdout",
     "output_type": "stream",
     "text": [
      "[2, 3, 8, 1, 6]\n",
      "[2, 3, 9, 8, 1, 6]\n",
      "[2, 3, 9, 8, 1]\n",
      "[]\n"
     ]
    }
   ],
   "source": [
    "# List methods: append(), insert(), remove(), pop(), clear()\n",
    "a = [2, 3, 8, 1]\n",
    "a.append(6)\n",
    "print(a)\n",
    "a.insert(2, 9)\n",
    "print(a)\n",
    "a.pop()\n",
    "print(a)\n",
    "a.clear()\n",
    "print(a)\n"
   ]
  },
  {
   "cell_type": "code",
   "execution_count": 8,
   "metadata": {},
   "outputs": [
    {
     "name": "stdout",
     "output_type": "stream",
     "text": [
      "[2, 8, 1, 3, 8, 12, 38, 3]\n"
     ]
    }
   ],
   "source": [
    "a = [2, 3, 8, 1, 3, 8, 12, 38, 3]\n",
    "a.remove(3)\n",
    "print(a)"
   ]
  },
  {
   "cell_type": "code",
   "execution_count": null,
   "metadata": {},
   "outputs": [],
   "source": [
    "#slice a list\n",
    "# Simple slice [start:end]\n",
    "a = [3, 8, 99, 12, 32, 50, 76, 34, 100]\n",
    "print(a[3:6])\n",
    "print(a[:4])\n",
    "print(a[0:4])"
   ]
  },
  {
   "cell_type": "code",
   "execution_count": 13,
   "metadata": {},
   "outputs": [
    {
     "name": "stdout",
     "output_type": "stream",
     "text": [
      "[99, 32, 76]\n",
      "[12, 99, 8, 3]\n",
      "[34, 50, 12, 8]\n"
     ]
    }
   ],
   "source": [
    "# Fulll syntax [start:end:step]\n",
    "print(a[2:7:2])\n",
    "print(a[3::-1])\n",
    "print(a[-2:0:-2])"
   ]
  }
 ],
 "metadata": {
  "kernelspec": {
   "display_name": "Python 3",
   "language": "python",
   "name": "python3"
  },
  "language_info": {
   "codemirror_mode": {
    "name": "ipython",
    "version": 3
   },
   "file_extension": ".py",
   "mimetype": "text/x-python",
   "name": "python",
   "nbconvert_exporter": "python",
   "pygments_lexer": "ipython3",
   "version": "3.11.4"
  },
  "orig_nbformat": 4
 },
 "nbformat": 4,
 "nbformat_minor": 2
}
