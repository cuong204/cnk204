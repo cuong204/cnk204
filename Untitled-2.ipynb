{
 "cells": [
  {
   "cell_type": "code",
   "execution_count": 15,
   "metadata": {},
   "outputs": [
    {
     "name": "stdout",
     "output_type": "stream",
     "text": [
      "x = 0.4\n",
      "x = 0.43\n",
      "x = 0.434\n",
      "x = 0.4342\n"
     ]
    }
   ],
   "source": [
    "#String format\n",
    "#Format numbber\n",
    "x = 0.43423\n",
    "print(f'x = {x:.1f}')\n",
    "print(f'x = {x:.2f}')\n",
    "print(f'x = {x:.3f}')\n",
    "print(f'x = {x:.4f}')\n"
   ]
  },
  {
   "cell_type": "code",
   "execution_count": 16,
   "metadata": {},
   "outputs": [
    {
     "name": "stdout",
     "output_type": "stream",
     "text": [
      "x =       0.43\n",
      "x = 0.43\n"
     ]
    }
   ],
   "source": [
    "print(f'x = {x:10.2f}') #reserved 10 spaces\n",
    "print(f'x = {x:.2f}') #let python decide how many spaces\n"
   ]
  },
  {
   "cell_type": "code",
   "execution_count": 17,
   "metadata": {},
   "outputs": [
    {
     "name": "stdout",
     "output_type": "stream",
     "text": [
      "x = 4.34e-01\n"
     ]
    }
   ],
   "source": [
    "print(f'x = {x:8.2e}') #scientific motation\n"
   ]
  },
  {
   "cell_type": "code",
   "execution_count": 18,
   "metadata": {},
   "outputs": [
    {
     "name": "stdout",
     "output_type": "stream",
     "text": [
      "x = 1.23400e+03\n"
     ]
    }
   ],
   "source": [
    "y = 1234\n",
    "print(f'x = {y:8.5e}')"
   ]
  },
  {
   "cell_type": "code",
   "execution_count": 19,
   "metadata": {},
   "outputs": [
    {
     "name": "stdout",
     "output_type": "stream",
     "text": [
      "x =   43.42%\n"
     ]
    }
   ],
   "source": [
    "print(f'x = {x:8.2%}') #percentage format"
   ]
  },
  {
   "cell_type": "code",
   "execution_count": 20,
   "metadata": {},
   "outputs": [
    {
     "name": "stdout",
     "output_type": "stream",
     "text": [
      "hello world         \n",
      "              12.345\n"
     ]
    }
   ],
   "source": [
    "s = 'hello world'\n",
    "x = 12.345\n",
    "print(f'{s:20}') #string is aligned to the left\n",
    "print(f'{x:20}') #number is aligned to the right"
   ]
  },
  {
   "cell_type": "code",
   "execution_count": 21,
   "metadata": {},
   "outputs": [
    {
     "name": "stdout",
     "output_type": "stream",
     "text": [
      "         hello world\n",
      "12.345              \n",
      "    hello world     \n"
     ]
    }
   ],
   "source": [
    "print(f'{s:>20}') #'>' symbol is used to right align the string\n",
    "print(f'{x:<20}') #'<' symbol is used to left align the string\n",
    "print(f'{s:^20}') #'^' symbol is used to right align the string"
   ]
  },
  {
   "cell_type": "code",
   "execution_count": 26,
   "metadata": {},
   "outputs": [
    {
     "name": "stdout",
     "output_type": "stream",
     "text": [
      "+---------------+---------------+\n",
      "|     fruit     |    prices     |\n",
      "+---------------+---------------+\n",
      "|     apple     |    11.50     $|\n",
      "+---------------+---------------+\n",
      "|    banana     |    10.25     $|\n",
      "+---------------+---------------+\n",
      "|    orange     |     8.99     $|\n",
      "+---------------+---------------+\n"
     ]
    }
   ],
   "source": [
    "fruit = ['apple', 'banana', 'orange']\n",
    "prices = [11.5, 10.25, 8.99]\n",
    "#print fruit and prices\n",
    "print(f'+{\"-\"*15}+{\"-\"*15}+')\n",
    "print(f'|{\"fruit\":^15}|{\"prices\":^15}|')\n",
    "print(f'+{\"-\"*15}+{\"-\"*15}+')\n",
    "\n",
    "for i in range(len(fruit)):\n",
    "    print(f'|{fruit[i]:^15}|{prices[i]:^14.2f}$|')\n",
    "    print(f'+{\"-\"*15}+{\"-\"*15}+')"
   ]
  },
  {
   "cell_type": "code",
   "execution_count": 27,
   "metadata": {},
   "outputs": [
    {
     "name": "stdout",
     "output_type": "stream",
     "text": [
      "HELL0 W0RLD\n",
      "hell0 w0rld\n",
      "Hell0 W0Rld\n",
      "hELL0 W0RLD\n",
      "Hell0 w0rld\n"
     ]
    }
   ],
   "source": [
    "#Some string methods: upper, lower, title & swapcase\n",
    "s = 'Hell0 w0rld'\n",
    "print(s.upper())\n",
    "print(s.lower())\n",
    "print(s.title())\n",
    "print(s.swapcase())\n",
    "print(s) #String is immutable, cannot change characters in place"
   ]
  },
  {
   "cell_type": "code",
   "execution_count": 28,
   "metadata": {},
   "outputs": [
    {
     "name": "stdout",
     "output_type": "stream",
     "text": [
      "|      hello wordl         |\n",
      "|hello wordl         |\n",
      "|      hello wordl|\n",
      "|hello wordl|\n"
     ]
    }
   ],
   "source": [
    "s = '      hello wordl         '\n",
    "print(f'|{s}|')\n",
    "print(f'|{s.lstrip()}|') #remove left spaces\n",
    "print(f'|{s.rstrip()}|') #remove right spaces\n",
    "print(f'|{s.strip()}|') #remove left and right spaces"
   ]
  },
  {
   "cell_type": "code",
   "execution_count": 29,
   "metadata": {},
   "outputs": [
    {
     "name": "stdout",
     "output_type": "stream",
     "text": [
      "+---------------+---------------+\n",
      "*---------------*---------------*\n"
     ]
    }
   ],
   "source": [
    "s = f'+{\"-\"*15}+{\"-\"*15}+'\n",
    "print(s)\n",
    "s2 = s.replace('+', '*')  #replace all '+' with '*'\n",
    "print(s2)"
   ]
  },
  {
   "cell_type": "code",
   "execution_count": null,
   "metadata": {},
   "outputs": [],
   "source": [
    "#some function for string: len, min,max\n",
    "s1 = 'jonh lenon'\n",
    "s2 = 'paul McCartney'\n",
    "print(f'Length of s1:{len(s1)}')\n",
    "print(f'length of s2:{len(s2)}')\n"
   ]
  },
  {
   "cell_type": "code",
   "execution_count": 30,
   "metadata": {},
   "outputs": [
    {
     "name": "stdout",
     "output_type": "stream",
     "text": [
      "agdasgdag\n",
      "sadasd\n"
     ]
    }
   ],
   "source": [
    "# Character order: punctuantion< digits< uppercase< lowercase\n",
    "names = ['sadasd', 'asdasd', 'agdasgdag', 'gasdgasgsga']\n",
    "print(min(names))\n",
    "print(max(names))\n"
   ]
  },
  {
   "cell_type": "code",
   "execution_count": 32,
   "metadata": {},
   "outputs": [
    {
     "name": "stdout",
     "output_type": "stream",
     "text": [
      "sadasd\n",
      "gasdgasgsga\n"
     ]
    }
   ],
   "source": [
    "print(min(names, key=len))\n",
    "print(max(names, key=len))"
   ]
  },
  {
   "cell_type": "code",
   "execution_count": 33,
   "metadata": {},
   "outputs": [
    {
     "name": "stdout",
     "output_type": "stream",
     "text": [
      "hello pyhton\n",
      "pyhtonpyhtonpyhtonpyhtonpyhton\n"
     ]
    }
   ],
   "source": [
    "#String operators: + and *\n",
    "s1 = 'hello'\n",
    "s2 = 'pyhton'\n",
    "s3 = s1 + ' ' + s2\n",
    "print(s3)\n",
    "s4 = s2 * 5\n",
    "print(s4)"
   ]
  },
  {
   "cell_type": "code",
   "execution_count": 35,
   "metadata": {},
   "outputs": [
    {
     "name": "stdout",
     "output_type": "stream",
     "text": [
      "hell\n",
      "hello\n"
     ]
    }
   ],
   "source": [
    "s = 'hello'\n",
    "print(s[:4])\n",
    "print(s[-5:])"
   ]
  },
  {
   "cell_type": "code",
   "execution_count": 37,
   "metadata": {},
   "outputs": [
    {
     "name": "stdout",
     "output_type": "stream",
     "text": [
      "hell is in hello\n",
      "lo is in hello\n"
     ]
    }
   ],
   "source": [
    "if 'hell' in s:\n",
    "    print(f'hell is in {s}')  #\n",
    "\n",
    "if 'lo' in s:\n",
    "    print(f'lo is in {s}')"
   ]
  },
  {
   "cell_type": "code",
   "execution_count": 39,
   "metadata": {},
   "outputs": [
    {
     "name": "stdout",
     "output_type": "stream",
     "text": [
      "the letters in the string are all upper case.\n"
     ]
    }
   ],
   "source": [
    "s = input('enter a tring: ')\n",
    "if s.isalpha():\n",
    "    print('The string contains only letter.')\n",
    "if s.isdigit():\n",
    "    print('The string contains only digits.')\n",
    "if s.isalnum():\n",
    "    print('The string contains only letters or digits.')\n",
    "if s.islower():\n",
    "    print('The letters in the string are all low case.')\n",
    "if s.isupper():\n",
    "    print('the letters in the string are all upper case.')\n",
    "    "
   ]
  },
  {
   "cell_type": "code",
   "execution_count": 41,
   "metadata": {},
   "outputs": [
    {
     "name": "stdout",
     "output_type": "stream",
     "text": [
      "Found a position 32\n",
      "lazy dog is at the end of the string\n"
     ]
    }
   ],
   "source": [
    "#Search methods\n",
    "msg = ' quick brown fox jumps over the lazy dog'\n",
    "s = input('Enter a string to search: ')\n",
    "pos = msg.find(s)\n",
    "if pos !=-1:\n",
    "    print('Found a position', pos)\n",
    "else:\n",
    "    print('Not found')\n",
    "\n",
    "if msg. startswith(s):\n",
    "    print(f'{s} is at the beginning of the string')\n",
    "elif msg.endswith(s):\n",
    "    print(f'{s} is at the end of the string')\n",
    "else:\n",
    "    print(f'{s} is not at the beginning or end of the string')"
   ]
  },
  {
   "cell_type": "code",
   "execution_count": 42,
   "metadata": {},
   "outputs": [
    {
     "name": "stdout",
     "output_type": "stream",
     "text": [
      "hello+++world\n"
     ]
    }
   ],
   "source": [
    "#Chaining methods\n",
    "\n",
    "s = '     HeLLo   WOrlD      '\n",
    "s = s.strip().lower().replace(' ', '+')\n",
    "print(s)"
   ]
  }
 ],
 "metadata": {
  "kernelspec": {
   "display_name": "Python 3",
   "language": "python",
   "name": "python3"
  },
  "language_info": {
   "codemirror_mode": {
    "name": "ipython",
    "version": 3
   },
   "file_extension": ".py",
   "mimetype": "text/x-python",
   "name": "python",
   "nbconvert_exporter": "python",
   "pygments_lexer": "ipython3",
   "version": "3.11.4"
  },
  "orig_nbformat": 4
 },
 "nbformat": 4,
 "nbformat_minor": 2
}
