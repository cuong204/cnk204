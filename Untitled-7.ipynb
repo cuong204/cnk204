{
 "cells": [
  {
   "cell_type": "code",
   "execution_count": null,
   "metadata": {},
   "outputs": [],
   "source": [
    "#Popular list algorithms: sum, min, max, count, find, find all"
   ]
  },
  {
   "cell_type": "code",
   "execution_count": 1,
   "metadata": {},
   "outputs": [
    {
     "name": "stdout",
     "output_type": "stream",
     "text": [
      "[89, 45, 48, 84, 52, 14, 30, 2, 1, 31]\n"
     ]
    }
   ],
   "source": [
    "import random as rd  \n",
    "number = rd.sample(range(1, 100), 10)\n",
    "print (number)\n"
   ]
  },
  {
   "cell_type": "code",
   "execution_count": 17,
   "metadata": {},
   "outputs": [
    {
     "name": "stdout",
     "output_type": "stream",
     "text": [
      "Sum: 619\n",
      "Sum: 619\n"
     ]
    }
   ],
   "source": [
    "s = 0\n",
    "for n in number:\n",
    "    s = s + n\n",
    "print(f'Sum: {s}')\n",
    "\n",
    "s = 0\n",
    "for i in range(len(number)):\n",
    "    s = s + number[i]\n",
    "\n",
    "print(f'Sum: {s}')"
   ]
  },
  {
   "cell_type": "code",
   "execution_count": 10,
   "metadata": {},
   "outputs": [
    {
     "name": "stdout",
     "output_type": "stream",
     "text": [
      "Multi: 3628800\n",
      "Multi: 3628800\n"
     ]
    }
   ],
   "source": [
    "number = list(range(1, 11))\n",
    "s = 1\n",
    "for n in number:\n",
    "    s = s * n\n",
    "print(f'Multi: {s}')\n",
    "\n",
    "s = 1\n",
    "for i in range(len(number)):\n",
    "    s = s * number[i]\n",
    "\n",
    "print(f'Multi: {s}')"
   ]
  },
  {
   "cell_type": "code",
   "execution_count": 15,
   "metadata": {},
   "outputs": [
    {
     "name": "stdout",
     "output_type": "stream",
     "text": [
      "[57, 8, 2, 26, 95, 29, 23, 56, 19, 67]\n",
      "Min: 2\n",
      "Min: 2\n"
     ]
    }
   ],
   "source": [
    "#Find min\n",
    "number = rd.sample(range(1, 100), 10)\n",
    "print(number)\n",
    "m = number[0]\n",
    "for i in range(1, len(number)):\n",
    "    if number[i] < m:\n",
    "        m = number[i]\n",
    "print(f'Min: {m}')\n",
    "\n",
    "m = number[0]\n",
    "for n in number:\n",
    "    if n < m:\n",
    "        m = n\n",
    "print(f'Min: {m}')\n"
   ]
  },
  {
   "cell_type": "code",
   "execution_count": 16,
   "metadata": {},
   "outputs": [
    {
     "name": "stdout",
     "output_type": "stream",
     "text": [
      "[95, 88, 46, 18, 84, 59, 91, 39, 63, 36]\n",
      "Max: 95\n",
      "Min: 95\n"
     ]
    }
   ],
   "source": [
    "number = rd.sample(range(1, 100), 10)\n",
    "print(number)\n",
    "m = number[0]\n",
    "for i in range(1, len(number)):\n",
    "    if number[i] > m:\n",
    "        m = number[i]\n",
    "print(f'Max: {m}')\n",
    "\n",
    "m = number[0]\n",
    "for n in number:\n",
    "    if n > m:\n",
    "        m = n\n",
    "print(f'Min: {m}')"
   ]
  },
  {
   "cell_type": "code",
   "execution_count": 20,
   "metadata": {},
   "outputs": [
    {
     "name": "stdout",
     "output_type": "stream",
     "text": [
      "Total payment: $636.5300000000001\n",
      "Item butter has the highest price: $3.49\n",
      "Item eggs has the highest price: $1.99\n"
     ]
    }
   ],
   "source": [
    "groceries = ['apple', 'eggs', 'bread', 'butter']\n",
    "numbers = [2, 10, 5, 2]\n",
    "prices = [2.99, 1.99, 2.49, 3.49]\n",
    "\n",
    "s = 0\n",
    "for i in range(len(prices)):\n",
    "    s = s + number[i] * prices[i]\n",
    "print(f'Total payment: ${s}')\n",
    "\n",
    "max_price = prices[0]\n",
    "max_index = 0\n",
    "for i in range(len(prices)):\n",
    "    if prices[i] > max_price:\n",
    "        max_price = prices[i]\n",
    "        max_index = i\n",
    "print(f'Item {groceries[max_index]} has the highest price: ${max_price}')\n",
    "\n",
    "min_price = prices[0]\n",
    "min_index = 0\n",
    "for i in range(len(prices)):\n",
    "    if prices[i] < min_price:\n",
    "        min_price = prices[i]\n",
    "        min_index = i\n",
    "print(f'Item {groceries[min_index]} has the highest price: ${min_price}')"
   ]
  },
  {
   "cell_type": "code",
   "execution_count": 21,
   "metadata": {},
   "outputs": [
    {
     "name": "stdout",
     "output_type": "stream",
     "text": [
      "[87, 95, 44, 11, 69, 68, 34, 9, 24, 89]\n",
      "Ther are 4 evens\n"
     ]
    }
   ],
   "source": [
    "number = rd. sample(range(1, 100), 10)\n",
    "print(number)\n",
    "\n",
    "count = 0\n",
    "for n in number:\n",
    "    if n % 2 == 0:\n",
    "        count = count + 1\n",
    "\n",
    "print(f'Ther are {count} evens')\n",
    "\n",
    "s = 0"
   ]
  },
  {
   "cell_type": "code",
   "execution_count": 25,
   "metadata": {},
   "outputs": [
    {
     "name": "stdout",
     "output_type": "stream",
     "text": [
      "[6, 61, 63, 70, 20, 97, 26, 11, 75, 39]\n",
      "46.8\n"
     ]
    }
   ],
   "source": [
    "number = rd. sample(range(1, 100), 10)\n",
    "sum = 0 \n",
    "for i in range(len(number)):\n",
    "    sum += number[i]\n",
    "\n",
    "print(number)\n",
    "\n",
    "average = sum / len(number)\n",
    "sum \n",
    "count = 0\n",
    "for n in number:\n",
    "    if n > average:\n",
    "        count += 1\n",
    "print(average)"
   ]
  },
  {
   "cell_type": "code",
   "execution_count": 28,
   "metadata": {},
   "outputs": [
    {
     "name": "stdout",
     "output_type": "stream",
     "text": [
      "4\n"
     ]
    }
   ],
   "source": [
    "groceries_prices = {\n",
    "    'apple': 2.99,\n",
    "    'eggs': 1.99,\n",
    "    'bread': 2.49,\n",
    "    'butter': 3.49\n",
    "}\n",
    "total_payments = []\n",
    "for number, price in zip(numbers, prices):\n",
    "    total_payments.append(number * price)\n",
    "count = 0\n",
    "for payment in total_payments:\n",
    "    if payment > 5.00:\n",
    "        count += 1\n",
    "print(count)\n"
   ]
  },
  {
   "cell_type": "code",
   "execution_count": 30,
   "metadata": {},
   "outputs": [
    {
     "name": "stdout",
     "output_type": "stream",
     "text": [
      "Cheap product: ['eggs', 'bread']\n",
      "Cheap prices: [1.99, 2.49]\n"
     ]
    }
   ],
   "source": [
    "cheap_product = []\n",
    "cheap_prices = []\n",
    "for i in range(len(prices)):\n",
    "    if prices[i] < 2.50:\n",
    "        cheap_product.append(groceries[i])\n",
    "        cheap_prices.append(prices[i])\n",
    "\n",
    "if len(cheap_product) == 0:\n",
    "    print('No product is cheap')\n",
    "else:\n",
    "    print('Cheap product:', cheap_product)\n",
    "    print('Cheap prices:', cheap_prices)"
   ]
  },
  {
   "cell_type": "code",
   "execution_count": 44,
   "metadata": {},
   "outputs": [
    {
     "ename": "KeyboardInterrupt",
     "evalue": "Interrupted by user",
     "output_type": "error",
     "traceback": [
      "\u001b[1;31m---------------------------------------------------------------------------\u001b[0m",
      "\u001b[1;31mKeyboardInterrupt\u001b[0m                         Traceback (most recent call last)",
      "Cell \u001b[1;32mIn[44], line 21\u001b[0m\n\u001b[0;32m      9\u001b[0m         \u001b[39mreturn\u001b[39;00m \u001b[39mNone\u001b[39;00m\n\u001b[0;32m     10\u001b[0m students\u001b[39m=\u001b[39m {\n\u001b[0;32m     11\u001b[0m     \u001b[39m'\u001b[39m\u001b[39mJohn\u001b[39m\u001b[39m'\u001b[39m: {\u001b[39m'\u001b[39m\u001b[39mGPA\u001b[39m\u001b[39m'\u001b[39m: \u001b[39m3.5\u001b[39m, \u001b[39m'\u001b[39m\u001b[39mdepartment\u001b[39m\u001b[39m'\u001b[39m: \u001b[39m'\u001b[39m\u001b[39mIT\u001b[39m\u001b[39m'\u001b[39m},\n\u001b[0;32m     12\u001b[0m     \u001b[39m'\u001b[39m\u001b[39mmary\u001b[39m\u001b[39m'\u001b[39m: {\u001b[39m'\u001b[39m\u001b[39mGPA\u001b[39m\u001b[39m'\u001b[39m: \u001b[39m3.2\u001b[39m, \u001b[39m'\u001b[39m\u001b[39mdepartment\u001b[39m\u001b[39m'\u001b[39m: \u001b[39m'\u001b[39m\u001b[39mGD\u001b[39m\u001b[39m'\u001b[39m},\n\u001b[1;32m   (...)\u001b[0m\n\u001b[0;32m     18\u001b[0m     \u001b[39m'\u001b[39m\u001b[39mjerry\u001b[39m\u001b[39m'\u001b[39m: {\u001b[39m'\u001b[39m\u001b[39mGPA\u001b[39m\u001b[39m'\u001b[39m: \u001b[39m3.7\u001b[39m, \u001b[39m'\u001b[39m\u001b[39mdepartment\u001b[39m\u001b[39m'\u001b[39m: \u001b[39m'\u001b[39m\u001b[39mIT\u001b[39m\u001b[39m'\u001b[39m}\n\u001b[0;32m     19\u001b[0m }\n\u001b[1;32m---> 21\u001b[0m student_name \u001b[39m=\u001b[39m \u001b[39minput\u001b[39;49m(\u001b[39m'\u001b[39;49m\u001b[39mEnter student name: \u001b[39;49m\u001b[39m'\u001b[39;49m)\n\u001b[0;32m     22\u001b[0m student_data \u001b[39m=\u001b[39m get_student_data(student_name)\n\u001b[0;32m     23\u001b[0m \u001b[39mif\u001b[39;00m student_data \u001b[39mis\u001b[39;00m \u001b[39mnot\u001b[39;00m \u001b[39mNone\u001b[39;00m:\n",
      "File \u001b[1;32m~\\AppData\\Local\\Packages\\PythonSoftwareFoundation.Python.3.11_qbz5n2kfra8p0\\LocalCache\\local-packages\\Python311\\site-packages\\ipykernel\\kernelbase.py:1191\u001b[0m, in \u001b[0;36mKernel.raw_input\u001b[1;34m(self, prompt)\u001b[0m\n\u001b[0;32m   1189\u001b[0m     msg \u001b[39m=\u001b[39m \u001b[39m\"\u001b[39m\u001b[39mraw_input was called, but this frontend does not support input requests.\u001b[39m\u001b[39m\"\u001b[39m\n\u001b[0;32m   1190\u001b[0m     \u001b[39mraise\u001b[39;00m StdinNotImplementedError(msg)\n\u001b[1;32m-> 1191\u001b[0m \u001b[39mreturn\u001b[39;00m \u001b[39mself\u001b[39;49m\u001b[39m.\u001b[39;49m_input_request(\n\u001b[0;32m   1192\u001b[0m     \u001b[39mstr\u001b[39;49m(prompt),\n\u001b[0;32m   1193\u001b[0m     \u001b[39mself\u001b[39;49m\u001b[39m.\u001b[39;49m_parent_ident[\u001b[39m\"\u001b[39;49m\u001b[39mshell\u001b[39;49m\u001b[39m\"\u001b[39;49m],\n\u001b[0;32m   1194\u001b[0m     \u001b[39mself\u001b[39;49m\u001b[39m.\u001b[39;49mget_parent(\u001b[39m\"\u001b[39;49m\u001b[39mshell\u001b[39;49m\u001b[39m\"\u001b[39;49m),\n\u001b[0;32m   1195\u001b[0m     password\u001b[39m=\u001b[39;49m\u001b[39mFalse\u001b[39;49;00m,\n\u001b[0;32m   1196\u001b[0m )\n",
      "File \u001b[1;32m~\\AppData\\Local\\Packages\\PythonSoftwareFoundation.Python.3.11_qbz5n2kfra8p0\\LocalCache\\local-packages\\Python311\\site-packages\\ipykernel\\kernelbase.py:1234\u001b[0m, in \u001b[0;36mKernel._input_request\u001b[1;34m(self, prompt, ident, parent, password)\u001b[0m\n\u001b[0;32m   1231\u001b[0m \u001b[39mexcept\u001b[39;00m \u001b[39mKeyboardInterrupt\u001b[39;00m:\n\u001b[0;32m   1232\u001b[0m     \u001b[39m# re-raise KeyboardInterrupt, to truncate traceback\u001b[39;00m\n\u001b[0;32m   1233\u001b[0m     msg \u001b[39m=\u001b[39m \u001b[39m\"\u001b[39m\u001b[39mInterrupted by user\u001b[39m\u001b[39m\"\u001b[39m\n\u001b[1;32m-> 1234\u001b[0m     \u001b[39mraise\u001b[39;00m \u001b[39mKeyboardInterrupt\u001b[39;00m(msg) \u001b[39mfrom\u001b[39;00m \u001b[39mNone\u001b[39;00m\n\u001b[0;32m   1235\u001b[0m \u001b[39mexcept\u001b[39;00m \u001b[39mException\u001b[39;00m:\n\u001b[0;32m   1236\u001b[0m     \u001b[39mself\u001b[39m\u001b[39m.\u001b[39mlog\u001b[39m.\u001b[39mwarning(\u001b[39m\"\u001b[39m\u001b[39mInvalid Message:\u001b[39m\u001b[39m\"\u001b[39m, exc_info\u001b[39m=\u001b[39m\u001b[39mTrue\u001b[39;00m)\n",
      "\u001b[1;31mKeyboardInterrupt\u001b[0m: Interrupted by user"
     ]
    }
   ],
   "source": [
    "student = ['John', 'mary', 'Peter','jane', 'bob', 'alice','tom', 'jerry']\n",
    "department = ['IT', 'GD', 'GD', 'Biz', 'Biz', 'IT', 'GD', 'IT']\n",
    "GPAs = [3.5, 3.2, 3.8, 3.0, 3.1, 3.9, 3.6, 3.7]\n",
    "\n",
    "def get_student_data(student_name):\n",
    "    if student_name in student:\n",
    "        return students_data[student_name]\n",
    "    else:\n",
    "        return None\n",
    "students= {\n",
    "    'John': {'GPA': 3.5, 'department': 'IT'},\n",
    "    'mary': {'GPA': 3.2, 'department': 'GD'},\n",
    "    'Peter': {'GPA': 3.8, 'department': 'GD'},\n",
    "    'jane': {'GPA': 3.0, 'department': 'Biz'},\n",
    "    'bob': {'GPA': 3.1, 'department': 'Biz'},\n",
    "    'alice': {'GPA': 3.9, 'department': 'IT'},\n",
    "    'tom': {'GPA': 3.6, 'department': 'GD'},\n",
    "    'jerry': {'GPA': 3.7, 'department': 'IT'}\n",
    "}\n",
    "\n",
    "student_name = input('Enter student name: ')\n",
    "student_data = get_student_data(student_name)\n",
    "if student_data is not None:\n",
    "    print('GPA: ')"
   ]
  }
 ],
 "metadata": {
  "kernelspec": {
   "display_name": "Python 3",
   "language": "python",
   "name": "python3"
  },
  "language_info": {
   "codemirror_mode": {
    "name": "ipython",
    "version": 3
   },
   "file_extension": ".py",
   "mimetype": "text/x-python",
   "name": "python",
   "nbconvert_exporter": "python",
   "pygments_lexer": "ipython3",
   "version": "3.11.4"
  },
  "orig_nbformat": 4
 },
 "nbformat": 4,
 "nbformat_minor": 2
}
