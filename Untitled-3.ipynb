{
 "cells": [
  {
   "cell_type": "code",
   "execution_count": 1,
   "metadata": {},
   "outputs": [
    {
     "name": "stdout",
     "output_type": "stream",
     "text": [
      "French translation of hello is bonjour\n"
     ]
    }
   ],
   "source": [
    "a = {}\n",
    "#define a dictionary with some key-value pairs\n",
    "words = {'hello': 'bonjour', 'world': 'monde', 'dog': 'chien', 'cat': 'chat'}\n",
    "w = input('Enter a word in English: ')\n",
    "print(f'French translation of {w} is {words[w]}') #KeyError if key is not in the dictionary\n"
   ]
  },
  {
   "cell_type": "code",
   "execution_count": 2,
   "metadata": {},
   "outputs": [
    {
     "name": "stdout",
     "output_type": "stream",
     "text": [
      "No translation found for bonjour\n"
     ]
    }
   ],
   "source": [
    "w = input('Enter a word: ')\n",
    "if w in words:\n",
    "    print(f'French translation of {w} is {words[w]}')\n",
    "else:\n",
    "    print(f'No translation found for {w}')\n",
    "    "
   ]
  },
  {
   "cell_type": "code",
   "execution_count": 3,
   "metadata": {},
   "outputs": [
    {
     "name": "stdout",
     "output_type": "stream",
     "text": [
      "{'hello': 'bonjour', 'world': 'monde', 'dog': 'chien', 'cat': 'chat', 'three': 'madess'}\n"
     ]
    }
   ],
   "source": [
    "w = input('Enter a new word: ')\n",
    "french_w = input('Enter the French translation: ')\n",
    "if w not in words:\n",
    "    words[w] = french_w\n",
    "    print(words)\n",
    "else:\n",
    "    print(f'{w} already exists in the dictionary')    "
   ]
  },
  {
   "cell_type": "code",
   "execution_count": 4,
   "metadata": {},
   "outputs": [],
   "source": [
    "#TODO: enter an exists word then change its translation\n",
    "w = input('Enter a word to change: ')\n",
    "if w in words:\n",
    "    french_w = input('enter the new french traslation: ')\n",
    "    words[w] = french_w\n",
    "    print(words)\n",
    "else:\n",
    "    print(f'Word{w} not found')"
   ]
  },
  {
   "cell_type": "code",
   "execution_count": 5,
   "metadata": {},
   "outputs": [
    {
     "name": "stdout",
     "output_type": "stream",
     "text": [
      "{'hello': 'bonjour', 'world': 'monde', 'dog': 'chien', 'cat': 'chat'}\n"
     ]
    }
   ],
   "source": [
    "w = input('enter a word to delete: ')\n",
    "if w in words:\n",
    "    del words[w]\n",
    "    print(words)\n",
    "else:\n",
    "    print(f'Words {w} not found')"
   ]
  },
  {
   "cell_type": "code",
   "execution_count": 6,
   "metadata": {},
   "outputs": [
    {
     "name": "stdout",
     "output_type": "stream",
     "text": [
      "hello               :bonjour             \n",
      "----------\n",
      "world               :monde               \n",
      "----------\n",
      "dog                 :chien               \n",
      "----------\n",
      "cat                 :chat                \n",
      "----------\n",
      "hello               :bonjour             \n",
      "world               :monde               \n",
      "dog                 :chien               \n",
      "cat                 :chat                \n"
     ]
    }
   ],
   "source": [
    "for w in words:\n",
    "    print(f'{w:20}:{words[w]:20}')\n",
    "    print('----------')\n",
    "for english, french in words.items():\n",
    "    print(f'{english:20}:{french:20}')"
   ]
  }
 ],
 "metadata": {
  "kernelspec": {
   "display_name": "Python 3",
   "language": "python",
   "name": "python3"
  },
  "language_info": {
   "codemirror_mode": {
    "name": "ipython",
    "version": 3
   },
   "file_extension": ".py",
   "mimetype": "text/x-python",
   "name": "python",
   "nbconvert_exporter": "python",
   "pygments_lexer": "ipython3",
   "version": "3.11.4"
  },
  "orig_nbformat": 4
 },
 "nbformat": 4,
 "nbformat_minor": 2
}
